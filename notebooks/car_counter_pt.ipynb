{
 "cells": [
  {
   "cell_type": "markdown",
   "id": "2c47a7d8",
   "metadata": {},
   "source": [
    "first we import all whats needed"
   ]
  },
  {
   "cell_type": "code",
   "execution_count": 16,
   "id": "76984732",
   "metadata": {},
   "outputs": [],
   "source": [
    "import cv2                                  # for video processing and drawing\n",
    "import numpy as np                          # for all numerical operations\n",
    "from collections import OrderedDict         # Keeps track of objects in the order they were added\n",
    "from scipy.spatial import distance as dist  # Computes pairwise distances between points (used for tracking)"
   ]
  },
  {
   "cell_type": "markdown",
   "id": "7547d66b",
   "metadata": {},
   "source": [
    "now all needed pathes were added"
   ]
  },
  {
   "cell_type": "code",
   "execution_count": 17,
   "id": "3c8fb578",
   "metadata": {},
   "outputs": [],
   "source": [
    "video_path = \"../videos/CarsOnAHighway_30fps.mp4\"           # the video we do use\n",
    "prototxt_path = \"../models/deploy.prototxt\"                 # the network architecture of MobileNetSSD \n",
    "model_path = \"../models/mobilenet_iter_73000.caffemodel\"    # the trained weights of MobileNetSSD \n",
    "output_path = \"output_tracked.mp4\"                          # the video we do want to create"
   ]
  },
  {
   "cell_type": "markdown",
   "id": "73421637",
   "metadata": {},
   "source": [
    "Load MobileNetSSD - what happens here is that the architecture information and the calculated weights are taken and a model is created out of that.\n",
    "A list is created with all detectable opbjects to have an ID <-> name relation later"
   ]
  },
  {
   "cell_type": "code",
   "execution_count": 19,
   "id": "3a9cc4ab",
   "metadata": {},
   "outputs": [],
   "source": [
    "net = cv2.dnn.readNetFromCaffe(prototxt_path, model_path)\n",
    "CLASSES = [\"background\", \"aeroplane\", \"bicycle\", \"bird\", \"boat\",\n",
    "           \"bottle\", \"bus\", \"car\", \"cat\", \"chair\", \"cow\", \"diningtable\",\n",
    "           \"dog\", \"horse\", \"motorbike\", \"person\", \"pottedplant\", \"sheep\",\n",
    "           \"sofa\", \"train\", \"tvmonitor\"]"
   ]
  },
  {
   "cell_type": "markdown",
   "id": "084bf350",
   "metadata": {},
   "source": [
    "now the improved centraid tracker is created"
   ]
  },
  {
   "cell_type": "code",
   "execution_count": 20,
   "id": "7f2a2d45",
   "metadata": {},
   "outputs": [],
   "source": [
    "# Improved Centroid Tracker\n",
    "class CentroidTracker:\n",
    "    def __init__(self, maxDisappeared=50):      # C O N S T R U C T O R:\n",
    "        self.nextObjectID = 0                   # here the next upcoming object ID is storeded (used in register())\n",
    "        self.objects = OrderedDict()            # a dictionary is created for all existing objects - ID:[X-pos, Y-Pos]\n",
    "        self.disappeared = OrderedDict()        # a dictionary is created - info how long a object was invisible ID:frames\n",
    "        self.maxDisappeared = maxDisappeared\n",
    "        \n",
    "    # register a newly found car \n",
    "    # centroid - the x / y possition of the objet as an Humpy Array\n",
    "    def register(self, centroid):                   \n",
    "        self.objects[self.nextObjectID] = centroid  # create a dictonary entry for the object and store its position\n",
    "        self.disappeared[self.nextObjectID] = 0     # create a dictonary entry for the objects dissapearance timer and set it to Zero\n",
    "        self.nextObjectID += 1                      # calculate the next object ID\n",
    "\n",
    "    # if the car is gone, kick it out\n",
    "    def deregister(self, objectID):\n",
    "        del self.objects[objectID]\n",
    "        del self.disappeared[objectID]\n",
    "\n",
    "    # update each object separatly by stepping through all objects detected in n-dimensional array rects\n",
    "    def update(self, rects):\n",
    "        if len(rects) == 0:                                           # if no object was found you can delete them all\n",
    "            for objectID in list(self.disappeared.keys()):            # for all remaining objects\n",
    "                self.disappeared[objectID] += 1                       # increment the dissapearance counter\n",
    "                if self.disappeared[objectID] > self.maxDisappeared:  # if gobe for to long\n",
    "                    self.deregister(objectID)                         # delete this object\n",
    "            return self.objects                                       # jump back\n",
    "\n",
    "        inputCentroids = np.zeros((len(rects), 2), dtype=\"int\")       # create a numpy array element for each found objects and its coordinates (reservaze space only)\n",
    "        for (i, (startX, startY, endX, endY)) in enumerate(rects):\n",
    "            cX = int((startX + endX) / 2.0)\n",
    "            cY = int((startY + endY) / 2.0)\n",
    "            inputCentroids[i] = (cX, cY)\n",
    "\n",
    "        if len(self.objects) == 0:\n",
    "            for i in range(len(inputCentroids)):\n",
    "                self.register(inputCentroids[i])\n",
    "        else:\n",
    "            objectIDs = list(self.objects.keys())\n",
    "            objectCentroids = list(self.objects.values())\n",
    "\n",
    "            D = dist.cdist(np.array(objectCentroids), inputCentroids)\n",
    "            rows = D.min(axis=1).argsort()\n",
    "            cols = D.argmin(axis=1)[rows]\n",
    "\n",
    "            usedRows = set()\n",
    "            usedCols = set()\n",
    "\n",
    "            for (row, col) in zip(rows, cols):\n",
    "                if row in usedRows or col in usedCols:\n",
    "                    continue\n",
    "                objectID = objectIDs[row]\n",
    "                self.objects[objectID] = inputCentroids[col]\n",
    "                self.disappeared[objectID] = 0\n",
    "                usedRows.add(row)\n",
    "                usedCols.add(col)\n",
    "\n",
    "            unusedRows = set(range(0, D.shape[0])).difference(usedRows)\n",
    "            unusedCols = set(range(0, D.shape[1])).difference(usedCols)\n",
    "\n",
    "            if D.shape[0] >= D.shape[1]:\n",
    "                for row in unusedRows:\n",
    "                    objectID = objectIDs[row]\n",
    "                    self.disappeared[objectID] += 1\n",
    "                    if self.disappeared[objectID] > self.maxDisappeared:\n",
    "                        self.deregister(objectID)\n",
    "            else:\n",
    "                for col in unusedCols:\n",
    "                    self.register(inputCentroids[col])\n",
    "\n",
    "        return self.objects\n",
    "\n",
    "tracker = CentroidTracker()"
   ]
  },
  {
   "cell_type": "markdown",
   "id": "e0fc8898",
   "metadata": {},
   "source": [
    "Open the video and store it"
   ]
  },
  {
   "cell_type": "code",
   "execution_count": 21,
   "id": "95cf22aa",
   "metadata": {},
   "outputs": [],
   "source": [
    "# Open video\n",
    "cap = cv2.VideoCapture(video_path)\n",
    "width = int(cap.get(cv2.CAP_PROP_FRAME_WIDTH))\n",
    "height = int(cap.get(cv2.CAP_PROP_FRAME_HEIGHT))\n",
    "fps = cap.get(cv2.CAP_PROP_FPS)"
   ]
  },
  {
   "cell_type": "markdown",
   "id": "e77eb67b",
   "metadata": {},
   "source": [
    "create a VideoWriter for output"
   ]
  },
  {
   "cell_type": "code",
   "execution_count": 22,
   "id": "6a812020",
   "metadata": {},
   "outputs": [],
   "source": [
    "fourcc = cv2.VideoWriter_fourcc(*'mp4v')\n",
    "out = cv2.VideoWriter(output_path, fourcc, fps, (width, height))"
   ]
  },
  {
   "cell_type": "markdown",
   "id": "fce7a937",
   "metadata": {},
   "source": [
    "Now do the magic"
   ]
  },
  {
   "cell_type": "code",
   "execution_count": 23,
   "id": "c112c933",
   "metadata": {},
   "outputs": [
    {
     "name": "stdout",
     "output_type": "stream",
     "text": [
      "Annotated video with persistent IDs saved as output_tracked.mp4\n",
      "To display in Jupyter, use:\n",
      "from IPython.display import Video; Video('output_tracked.mp4', embed=True)\n"
     ]
    }
   ],
   "source": [
    "while True:\n",
    "    ret, frame = cap.read()\n",
    "    if not ret:\n",
    "        break\n",
    "\n",
    "    (h, w) = frame.shape[:2]\n",
    "    blob = cv2.dnn.blobFromImage(cv2.resize(frame, (300, 300)), 0.007843, (300, 300), 127.5)\n",
    "    net.setInput(blob)\n",
    "    detections = net.forward()\n",
    "\n",
    "    rects = []\n",
    "    for i in range(detections.shape[2]):\n",
    "        confidence = detections[0, 0, i, 2]\n",
    "        if confidence > 0.4:\n",
    "            idx = int(detections[0, 0, i, 1])\n",
    "            if CLASSES[idx] in [\"car\", \"bus\", \"person\"]:\n",
    "                box = detections[0, 0, i, 3:7] * np.array([w, h, w, h])\n",
    "                rects.append(box.astype(\"int\"))\n",
    "\n",
    "    objects = tracker.update(rects)\n",
    "\n",
    "    for (objectID, centroid) in objects.items():\n",
    "        text = f\"ID {objectID}\"\n",
    "        cv2.putText(frame, text, (centroid[0] - 10, centroid[1] - 10),\n",
    "                    cv2.FONT_HERSHEY_SIMPLEX, 0.5, (0, 255, 0), 2)\n",
    "        cv2.circle(frame, (centroid[0], centroid[1]), 4, (0, 255, 0), -1)\n",
    "\n",
    "    out.write(frame)\n",
    "\n",
    "    cap.release()\n",
    "out.release()\n",
    "\n",
    "print(\"Annotated video with persistent IDs saved as output_tracked.mp4\")\n",
    "print(\"To display in Jupyter, use:\")\n",
    "print(\"from IPython.display import Video; Video('output_tracked.mp4', embed=True)\")"
   ]
  }
 ],
 "metadata": {
  "kernelspec": {
   "display_name": ".venv",
   "language": "python",
   "name": "python3"
  },
  "language_info": {
   "codemirror_mode": {
    "name": "ipython",
    "version": 3
   },
   "file_extension": ".py",
   "mimetype": "text/x-python",
   "name": "python",
   "nbconvert_exporter": "python",
   "pygments_lexer": "ipython3",
   "version": "3.10.19"
  }
 },
 "nbformat": 4,
 "nbformat_minor": 5
}
